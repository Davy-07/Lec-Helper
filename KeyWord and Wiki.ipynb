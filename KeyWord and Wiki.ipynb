{
 "cells": [
  {
   "cell_type": "code",
   "execution_count": 1,
   "id": "5355abe9",
   "metadata": {},
   "outputs": [],
   "source": [
    "text_content = [\n",
    "    \"\"\"\n",
    "In last section, examined early aspects memory. In section, we’re going discuss factors influence memory. So let’s beginning concept slide two, concept overlearning. Basically overlearning, idea continue study something recall perfectly. So study particular topic whatever topic is. When recall perfectly, continue study it. This classic way help one taking comprehensive finals later semester. So study exam one really know all, continue study it. That make comprehensive final easier. The next factor influence memory relates call organization. In general, organize material, recall better. There lots different types organizational strategies I’ve listed slide four. So let’s begin talking first organizational strategy called clustering located page five. In clustering, basically recall items better recognize two types things particular list. So let’s give couple lists show examples that. These examples shown slide six. Let’s say I give first list; north, cardinal, south, robin, east, wren, west, sparrow. Now recognize north, south, east west points compass cardinal, robin, wren sparrow birds, higher probability recalling material tried recall list order. The occurs second list located right hand side page six. So let’s list words well; pig, cat, horse, dog, sheep, birds, cow, fish. Now recognize two groups animals; one farm animals domestic companions, ala, pets, recall list material better tried recall list order. So again, another type example organizational strategy. Now organizational strategies one use well. The next one these, see slide seven, called verbal pneumonic techniques. In verbal pneumonic techniques, make organization many, many different types techniques. So let’s talk first slide eight called acrostics. In acrostics phrases first letter word functions cue help recall piece information. There variety different acrostics one uses. The famous relates saying: On Old Olympus Towering Tops A Fin And German Vented Some Hops. These relate twelve different cranial nerves within brain traditional medical student taking anatomy physiology, acrostic usually use remember them. Now verbal pneumonic techniques well. So let’s take look another one located slide 10. These called acronyms. Acronyms basically word formed first letters series words. A classic example acronym system ROY G BIV first letters colors visual spectrum. This classic acronym sensation perception students even introductory psych students learn memorize. Another verbal pneumonic technique shown slide 11 called Rhymes. The classic rhyme one learned grade school I E except C. So rhymes another way recall memorize information. So we’ve examined variety different verbal pneumonic techniques work. In next section, we’re going examine visual imagery types methods organize material. The first shown slide 13 called Method Loci. Basically involves taking kind imaginary walk along familiar path images you’re trying recall associated items locations along path. The classic example put material house. So close eyes think this. What happens walk back door? What’s first item see. Well first item see put first piece information want remember. Let’s say coat hook, hang something coat hook. Then continue kitchen. In kitchen, what’s first thing see? Well may refrigerator, identify second item you’re trying remember put refrigerator. Then open door refrigerator that’s put third item. And close refrigerator door look left there’s stove. So, put next item one burners stove items trying remember located within kitchen within house. Then you’re trying recall items exam, begin walk around house. So first thing think happens I walk back door lo behold, there’s first item I’m trying recall. Then I go refrigerator there’s second item. Then I open door refrigerator there’s third item I different materials I’m trying remember put exam. Now walking around house good place use method loci, places that’s even better. The better place try place information want learn location you’re going recall material. So sitting exam room you’re going take test putting things different objects within exam room good strategy. Especially one trying memorize lots lots different information places acts cue. So that’s first type visual imagery technique. Now second type visual imagery technique shown slide 14. This called pegword technique. The pegword technique relies list integers. What attach pegword numbers rhymes. The classic example One rhyming Bun, Two Shoe, Three Tree, Four Door on. Then see slide 15, you’re given list words recall, associate first word list peg word. For example word, let’s say you’re trying recall word “Bee” peg word bun. Well might try visualize bee eating great big bun. As result that, make associations. Furthermore, outrageous association, better recall particular item. So, let’s say might frog shoes on, horse knocking tree, whatever may information you’re trying recall.\n",
    "\"\"\",\n",
    "    \"\"\"\n",
    "    Electromagnetism is one of the fundamental forces of nature. Early on, electricity and magnetism were studied separately and regarded as separate phenomena. Hans Christian Ørsted discovered that the two were related – electric currents give rise to magnetism. Michael Faraday discovered the converse, that magnetism could induce electric currents, and James Clerk Maxwell put the whole thing together in a unified theory of electromagnetism. Maxwell's equations further indicated that electromagnetic waves existed, and the experiments of Heinrich Hertz confirmed this, making radio possible. Maxwell also postulated, correctly, that light was a form of electromagnetic wave, thus making all of optics a branch of electromagnetism. Radio waves differ from light only in that the wavelength of the former is much longer than the latter. Albert Einstein showed that the magnetic field arises through the relativistic motion of the electric field and thus magnetism is merely a side effect of electricity. The modern theoretical treatment of electromagnetism is as a quantum field in quantum electrodynamics.\n",
    "\"\"\",\n",
    "    \"\"\"Sources tell us that Google is acquiring Kaggle, a platform that hosts data science and machine learning \"\\\n",
    "\"competitions. Details about the transaction remain somewhat vague, but given that Google is hosting its Cloud \"\\\n",
    "\"Next conference in San Francisco this week, the official announcement could come as early as tomorrow. \"\\\n",
    "\"Reached by phone, Kaggle co-founder CEO Anthony Goldbloom declined to deny that the acquisition is happening. \"\\\n",
    "\"Google itself declined 'to comment on rumors'. Kaggle, which has about half a million data scientists on its platform, \"\\\n",
    "\"was founded by Goldbloom  and Ben Hamner in 2010. \"\\\n",
    "\"The service got an early start and even though it has a few competitors like DrivenData, TopCoder and HackerRank, \"\\\n",
    "\"it has managed to stay well ahead of them by focusing on its specific niche. \"\\\n",
    "\"The service is basically the de facto home for running data science and machine learning competitions. \"\\\n",
    "\"With Kaggle, Google is buying one of the largest and most active communities for data scientists - and with that, \"\\\n",
    "\"it will get increased mindshare in this community, too (though it already has plenty of that thanks to Tensorflow \"\\\n",
    "\"and other projects). Kaggle has a bit of a history with Google, too, but that's pretty recent. Earlier this month, \"\\\n",
    "\"Google and Kaggle teamed up to host a $100,000 machine learning competition around classifying YouTube videos. \"\\\n",
    "\"That competition had some deep integrations with the Google Cloud Platform, too. Our understanding is that Google \"\\\n",
    "\"will keep the service running - likely under its current name. While the acquisition is probably more about \"\\\n",
    "\"Kaggle's community than technology, Kaggle did build some interesting tools for hosting its competition \"\\\n",
    "\"and 'kernels', too. On Kaggle, kernels are basically the source code for analyzing data sets and developers can \"\\\n",
    "\"share this code on the platform (the company previously called them 'scripts'). \"\\\n",
    "\"Like similar competition-centric sites, Kaggle also runs a job board, too. It's unclear what Google will do with \"\\\n",
    "\"that part of the service. According to Crunchbase, Kaggle raised $12.5 million (though PitchBook says it's $12.75) \"\\\n",
    "\"since its   launch in 2010. Investors in Kaggle include Index Ventures, SV Angel, Max Levchin, Naval Ravikant, \"\\\n",
    "\"Google chief economist Hal Varian, Khosla Ventures and Yuri Milner \"\"\",\n",
    "]\n"
   ]
  },
  {
   "cell_type": "code",
   "execution_count": 2,
   "id": "9b53fc50",
   "metadata": {},
   "outputs": [
    {
     "name": "stderr",
     "output_type": "stream",
     "text": [
      "2022-03-27 17:49:09.089970: W tensorflow/stream_executor/platform/default/dso_loader.cc:64] Could not load dynamic library 'libcudart.so.11.0'; dlerror: libcudart.so.11.0: cannot open shared object file: No such file or directory\n",
      "2022-03-27 17:49:09.090035: I tensorflow/stream_executor/cuda/cudart_stub.cc:29] Ignore above cudart dlerror if you do not have a GPU set up on your machine.\n"
     ]
    }
   ],
   "source": [
    "from string import punctuation\n",
    "from nltk.corpus import stopwords\n",
    "from nltk.tokenize import word_tokenize\n",
    "from yake import KeywordExtractor\n",
    "from keybert import KeyBERT"
   ]
  },
  {
   "cell_type": "code",
   "execution_count": 3,
   "id": "5bc52ddd",
   "metadata": {},
   "outputs": [],
   "source": [
    "def preprocessed_text(text_content):\n",
    "    # remove punctuation\n",
    "    text_content = text_content.translate(str.maketrans(\" \", \" \", punctuation))\n",
    "    # remove stopwords\n",
    "    stop_words = set(stopwords.words(\"english\"))\n",
    "    # remove words less than 3 characters\n",
    "    words = word_tokenize(text_content)\n",
    "    words = [w for w in words if len(w) > 2]\n",
    "    # remove words in stopwords\n",
    "    words = [w for w in words if not w in stop_words]\n",
    "    return \" \".join(words)"
   ]
  },
  {
   "cell_type": "code",
   "execution_count": 10,
   "id": "bd27187a",
   "metadata": {},
   "outputs": [
    {
     "name": "stdout",
     "output_type": "stream",
     "text": [
      "-----------------------------------------\n",
      "\n",
      "\n",
      "\n",
      "\n",
      "last section examined early aspects memory section going discuss factors influence memory let beginning concept slide two concept overlearning Basically overlearning idea continue study something recall perfectly study particular topic whatever topic When recall perfectly continue study This classic way help one taking comprehensive finals later semester study exam one really know continue study That make comprehensive final easier The next factor influence memory relates call organization general organize material recall better There lots different types organizational strategies listed slide four let begin talking first organizational strategy called clustering located page five clustering basically recall items better recognize two types things particular list let give couple lists show examples These examples shown slide six Let say give first list north cardinal south robin east wren west sparrow Now recognize north south east west points compass cardinal robin wren sparrow birds higher probability recalling material tried recall list order The occurs second list located right hand side page six let list words well pig cat horse dog sheep birds cow fish Now recognize two groups animals one farm animals domestic companions ala pets recall list material better tried recall list order another type example organizational strategy Now organizational strategies one use well The next one see slide seven called verbal pneumonic techniques verbal pneumonic techniques make organization many many different types techniques let talk first slide eight called acrostics acrostics phrases first letter word functions cue help recall piece information There variety different acrostics one uses The famous relates saying Old Olympus Towering Tops Fin And German Vented Some Hops These relate twelve different cranial nerves within brain traditional medical student taking anatomy physiology acrostic usually use remember Now verbal pneumonic techniques well let take look another one located slide These called acronyms Acronyms basically word formed first letters series words classic example acronym system ROY BIV first letters colors visual spectrum This classic acronym sensation perception students even introductory psych students learn memorize Another verbal pneumonic technique shown slide called Rhymes The classic rhyme one learned grade school except rhymes another way recall memorize information examined variety different verbal pneumonic techniques work next section going examine visual imagery types methods organize material The first shown slide called Method Loci Basically involves taking kind imaginary walk along familiar path images trying recall associated items locations along path The classic example put material house close eyes think What happens walk back door What first item see Well first item see put first piece information want remember Let say coat hook hang something coat hook Then continue kitchen kitchen first thing see Well may refrigerator identify second item trying remember put refrigerator Then open door refrigerator put third item And close refrigerator door look left stove put next item one burners stove items trying remember located within kitchen within house Then trying recall items exam begin walk around house first thing think happens walk back door behold first item trying recall Then refrigerator second item Then open door refrigerator third item different materials trying remember put exam Now walking around house good place use method loci places even better The better place try place information want learn location going recall material sitting exam room going take test putting things different objects within exam room good strategy Especially one trying memorize lots lots different information places acts cue first type visual imagery technique Now second type visual imagery technique shown slide This called pegword technique The pegword technique relies list integers What attach pegword numbers rhymes The classic example One rhyming Bun Two Shoe Three Tree Four Door Then see slide given list words recall associate first word list peg word For example word let say trying recall word Bee peg word bun Well might try visualize bee eating great big bun result make associations Furthermore outrageous association better recall particular item let say might frog shoes horse knocking tree whatever may information trying recall\n",
      "-----------------------------------------\n",
      "\n",
      "\n",
      "\n",
      "\n",
      "Single word keyphrase: [('recall', 0.00625210469221115), ('slide', 0.009385104136427411), ('item', 0.01034584937059062), ('list', 0.01038724723757793), ('pneumonic', 0.010554157788347224)]\n",
      "-----------------------------------------\n",
      "Two word keyphrase: [('verbal pneumonic', 0.0007997646994853173), ('pneumonic techniques', 0.0011055936674510896), ('shown slide', 0.0016693903651108523), ('Method Loci', 0.0018593802077196784), ('visual imagery', 0.001872287260973394)]\n",
      "-----------------------------------------\n",
      "Three word keyphrase: [('verbal pneumonic techniques', 8.425890500022131e-05), ('Olympus Towering Tops', 0.00011005792664527097), ('Towering Tops Fin', 0.00011005792664527097), ('system ROY BIV', 0.00020264793188492442), ('walk back door', 0.00022716308433875154)]\n",
      "-----------------------------------------\n",
      "\n",
      "\n",
      "\n",
      "\n",
      "KeyBERT: [('sitting exam', 0.3618), ('continue study', 0.3578), ('finals later', 0.3566), ('later semester', 0.3547), ('remember exam', 0.3397), ('study exam', 0.3328), ('semester study', 0.3304), ('comprehensive finals', 0.3277), ('exam begin', 0.3261), ('study classic', 0.3122)]\n",
      "-----------------------------------------\n",
      "-----------------------------------------\n",
      "\n",
      "\n",
      "\n",
      "\n",
      "Electromagnetism one fundamental forces nature Early electricity magnetism studied separately regarded separate phenomena Hans Christian Ørsted discovered two related electric currents give rise magnetism Michael Faraday discovered converse magnetism could induce electric currents James Clerk Maxwell put whole thing together unified theory electromagnetism Maxwells equations indicated electromagnetic waves existed experiments Heinrich Hertz confirmed making radio possible Maxwell also postulated correctly light form electromagnetic wave thus making optics branch electromagnetism Radio waves differ light wavelength former much longer latter Albert Einstein showed magnetic field arises relativistic motion electric field thus magnetism merely side effect electricity The modern theoretical treatment electromagnetism quantum field quantum electrodynamics\n",
      "-----------------------------------------\n",
      "\n",
      "\n",
      "\n",
      "\n",
      "Single word keyphrase: [('Maxwell', 0.04440064595806524), ('radio', 0.05329689511041512), ('electric', 0.05409581655040998), ('Electromagnetism', 0.05583324785501529), ('magnetism', 0.05583324785501529)]\n",
      "-----------------------------------------\n",
      "Two word keyphrase: [('Hans Christian', 0.004398941598473072), ('Christian Ørsted', 0.004398941598473072), ('Michael Faraday', 0.004398941598473072), ('James Clerk', 0.004398941598473072), ('Heinrich Hertz', 0.004398941598473072)]\n",
      "-----------------------------------------\n",
      "Three word keyphrase: [('Hans Christian Ørsted', 0.0002935296108595652), ('James Clerk Maxwell', 0.00039498603182441816), ('phenomena Hans Christian', 0.0005569851242178226), ('experiments Heinrich Hertz', 0.0005569851242178226), ('Heinrich Hertz confirmed', 0.0005569851242178226)]\n",
      "-----------------------------------------\n",
      "\n",
      "\n",
      "\n",
      "\n",
      "KeyBERT: [('electromagnetism quantum', 0.5635), ('field quantum', 0.5347), ('theory electromagnetism', 0.534), ('quantum electrodynamics', 0.5289), ('quantum field', 0.4996), ('electromagnetism maxwells', 0.4973), ('albert einstein', 0.4819), ('electromagnetism radio', 0.4782), ('branch electromagnetism', 0.469), ('electricity magnetism', 0.4508)]\n",
      "-----------------------------------------\n",
      "-----------------------------------------\n",
      "\n",
      "\n",
      "\n",
      "\n",
      "Sources tell Google acquiring Kaggle platform hosts data science machine learning competitions Details transaction remain somewhat vague given Google hosting Cloud Next conference San Francisco week official announcement could come early tomorrow Reached phone Kaggle cofounder CEO Anthony Goldbloom declined deny acquisition happening Google declined comment rumors Kaggle half million data scientists platform founded Goldbloom Ben Hamner 2010 The service got early start even though competitors like DrivenData TopCoder HackerRank managed stay well ahead focusing specific niche The service basically facto home running data science machine learning competitions With Kaggle Google buying one largest active communities data scientists get increased mindshare community though already plenty thanks Tensorflow projects Kaggle bit history Google thats pretty recent Earlier month Google Kaggle teamed host 100000 machine learning competition around classifying YouTube videos That competition deep integrations Google Cloud Platform Our understanding Google keep service running likely current name While acquisition probably Kaggles community technology Kaggle build interesting tools hosting competition kernels Kaggle kernels basically source code analyzing data sets developers share code platform company previously called scripts Like similar competitioncentric sites Kaggle also runs job board Its unclear Google part service According Crunchbase Kaggle raised 125 million though PitchBook says 1275 since launch 2010 Investors Kaggle include Index Ventures Angel Max Levchin Naval Ravikant Google chief economist Hal Varian Khosla Ventures Yuri Milner\n",
      "-----------------------------------------\n",
      "\n",
      "\n",
      "\n",
      "\n",
      "Single word keyphrase: [('Kaggle', 0.004689871823448653), ('Google', 0.0050402832184477464), ('data', 0.01727801242724605), ('platform', 0.01938077385336734), ('learning', 0.01952258325353426)]\n",
      "-----------------------------------------\n",
      "Two word keyphrase: [('machine learning', 0.0012258139762102794), ('Ben Hamner', 0.002100546424780963), ('Yuri Milner', 0.002100546424780963), ('science machine', 0.0021939031765195573), ('Investors Kaggle', 0.0022412793677500506)]\n",
      "-----------------------------------------\n",
      "Three word keyphrase: [('Goldbloom Ben Hamner', 0.0001023136331314055), ('Ventures Yuri Milner', 0.0001023136331314055), ('Angel Max Levchin', 0.00011384427491861107), ('Max Levchin Naval', 0.00011384427491861107), ('Levchin Naval Ravikant', 0.00011384427491861107)]\n",
      "-----------------------------------------\n",
      "\n",
      "\n",
      "\n",
      "\n"
     ]
    },
    {
     "name": "stdout",
     "output_type": "stream",
     "text": [
      "KeyBERT: [('topcoder hackerrank', 0.4852), ('google buying', 0.4823), ('google acquiring', 0.4779), ('google hosting', 0.4778), ('integrations google', 0.4684), ('google cloud', 0.465), ('kaggle google', 0.4471), ('google kaggle', 0.4451), ('history google', 0.4371), ('ravikant google', 0.4303)]\n",
      "-----------------------------------------\n"
     ]
    }
   ],
   "source": [
    "for text in text_content:\n",
    "    text = preprocessed_text(text)\n",
    "    print(\"-----------------------------------------\\n\\n\\n\\n\")\n",
    "\n",
    "    print(text)\n",
    "    print(\"-----------------------------------------\\n\\n\\n\\n\")\n",
    "\n",
    "    # single word keyphrase extraction\n",
    "    kw_extractor = KeywordExtractor(lan=\"en\", n=1, top=5)\n",
    "    print(\n",
    "        \"Single word keyphrase:\",\n",
    "        kw_extractor.extract_keywords(text),\n",
    "    )\n",
    "    print(\"-----------------------------------------\")\n",
    "\n",
    "    # two word keyphrase extraction\n",
    "    kw_extractor = KeywordExtractor(lan=\"en\", n=2, top=5)\n",
    "    print(\n",
    "        \"Two word keyphrase:\",\n",
    "        kw_extractor.extract_keywords(text),\n",
    "    )\n",
    "\n",
    "    print(\"-----------------------------------------\")\n",
    "\n",
    "    \n",
    "    \n",
    "    # three word keyphrase extraction\n",
    "    kw_extractor = KeywordExtractor(lan=\"en\", n=3, top=5)\n",
    "    print(\n",
    "        \"Three word keyphrase:\",\n",
    "        kw_extractor.extract_keywords(text),\n",
    "    )\n",
    "    \n",
    "    print(\"-----------------------------------------\\n\\n\\n\\n\")\n",
    "\n",
    "\n",
    "    kw_extractor = KeyBERT(\"distilbert-base-nli-mean-tokens\")\n",
    "    print(\n",
    "        \"KeyBERT:\",\n",
    "        kw_extractor.extract_keywords(text, keyphrase_ngram_range=(0, 2), top_n=10),\n",
    "    )\n",
    "    print(\"-----------------------------------------\")\n",
    "\n",
    "\n",
    "    # # single word keyphrase extraction\n",
    "    # kw_extractor = KeyBERT(\"distilbert-base-nli-mean-tokens\")\n",
    "    # print(\n",
    "    #     \"Single word keyphrase:\",\n",
    "    #     kw_extractor.extract_keywords(\n",
    "    #         text,\n",
    "    #         keyphrase_length=1,\n",
    "    #         stopwords=\"englishpreprocessed_\n",
    "    # # two word keyphrase extraction\n",
    "    # print(\n",
    "    #     \"Two word keyphrase:\",\n",
    "    #     kw_extractor.extract_keywords(\n",
    "    #         text,\n",
    "    #         keyphrase_length=2,\n",
    "    #         stopwords=\"english\",\n",
    "    #     ),\n",
    "    # )\n",
    "\n",
    "    # # three word keyphrase extraction\n",
    "    # print(\n",
    "    #     \"Three word keyphrase:\",\n",
    "    #     kw_extractor.extract_keywords(\n",
    "    #         text,\n",
    "    #         keyphrase_length=3,\n",
    "    #         stopwords=\"english\",\n",
    "    #     ),\n",
    "    # )\n"
   ]
  },
  {
   "cell_type": "code",
   "execution_count": 14,
   "id": "08340aee",
   "metadata": {},
   "outputs": [
    {
     "data": {
      "text/plain": [
       "\"\\n    Electromagnetism is one of the fundamental forces of nature. Early on, electricity and magnetism were studied separately and regarded as separate phenomena. Hans Christian Ørsted discovered that the two were related – electric currents give rise to magnetism. Michael Faraday discovered the converse, that magnetism could induce electric currents, and James Clerk Maxwell put the whole thing together in a unified theory of electromagnetism. Maxwell's equations further indicated that electromagnetic waves existed, and the experiments of Heinrich Hertz confirmed this, making radio possible. Maxwell also postulated, correctly, that light was a form of electromagnetic wave, thus making all of optics a branch of electromagnetism. Radio waves differ from light only in that the wavelength of the former is much longer than the latter. Albert Einstein showed that the magnetic field arises through the relativistic motion of the electric field and thus magnetism is merely a side effect of electricity. The modern theoretical treatment of electromagnetism is as a quantum field in quantum electrodynamics.\\n\""
      ]
     },
     "execution_count": 14,
     "metadata": {},
     "output_type": "execute_result"
    }
   ],
   "source": [
    "text_content[1]"
   ]
  },
  {
   "cell_type": "code",
   "execution_count": 15,
   "id": "37627ba9",
   "metadata": {},
   "outputs": [],
   "source": [
    "import wikipedia"
   ]
  },
  {
   "cell_type": "code",
   "execution_count": 18,
   "id": "21d22105",
   "metadata": {},
   "outputs": [],
   "source": [
    "from nltk.stem import WordNetLemmatizer\n",
    "lemmatizer = WordNetLemmatizer()\n",
    "\n",
    "\n",
    "def preprocessed_text(text_content):\n",
    "    # remove punctuation\n",
    "    text_content = text_content.translate(str.maketrans(\" \", \" \", punctuation))\n",
    "    # remove stopwords\n",
    "    stop_words = set(stopwords.words(\"english\"))\n",
    "    # remove words less than 3 characters\n",
    "    words = word_tokenize(text_content)\n",
    "    words = [w for w in words if len(w) > 2]\n",
    "    # remove words in stopwords\n",
    "    words = [w for w in words if not w in stop_words]\n",
    "    # lemmatize words\n",
    "    words = [lemmatizer.lemmatize(w) for w in words]\n",
    "    return \" \".join(words)\n"
   ]
  },
  {
   "cell_type": "code",
   "execution_count": 19,
   "id": "8dc2d031",
   "metadata": {},
   "outputs": [
    {
     "data": {
      "text/plain": [
       "'Electromagnetism one fundamental force nature Early electricity magnetism studied separately regarded separate phenomenon Hans Christian Ørsted discovered two related electric current give rise magnetism Michael Faraday discovered converse magnetism could induce electric current James Clerk Maxwell put whole thing together unified theory electromagnetism Maxwells equation indicated electromagnetic wave existed experiment Heinrich Hertz confirmed making radio possible Maxwell also postulated correctly light form electromagnetic wave thus making optic branch electromagnetism Radio wave differ light wavelength former much longer latter Albert Einstein showed magnetic field arises relativistic motion electric field thus magnetism merely side effect electricity The modern theoretical treatment electromagnetism quantum field quantum electrodynamics'"
      ]
     },
     "execution_count": 19,
     "metadata": {},
     "output_type": "execute_result"
    }
   ],
   "source": [
    "electromagnetism_txt=preprocessed_text(text_content[1])\n",
    "electromagnetism_txt"
   ]
  },
  {
   "cell_type": "code",
   "execution_count": 56,
   "id": "1c5ec2a4",
   "metadata": {},
   "outputs": [
    {
     "name": "stdout",
     "output_type": "stream",
     "text": [
      "Two word keyphrase: [('Hans Christian', 0.004398941598473072), ('Christian Ørsted', 0.004398941598473072), ('Michael Faraday', 0.004398941598473072), ('James Clerk', 0.004398941598473072), ('Heinrich Hertz', 0.004398941598473072)]\n",
      "('Hans Christian', 0.004398941598473072)\n",
      "Hans Christian\n",
      "https://en.wikipedia.org/wiki/Hans_Christian_Andersen\n",
      "('Christian Ørsted', 0.004398941598473072)\n",
      "Christian Ørsted\n",
      "https://en.wikipedia.org/wiki/Hans_Christian_%C3%98rsted\n",
      "('Michael Faraday', 0.004398941598473072)\n",
      "Michael Faraday\n",
      "('James Clerk', 0.004398941598473072)\n",
      "James Clerk\n",
      "https://en.wikipedia.org/wiki/James_Clerk_Maxwell\n",
      "('Heinrich Hertz', 0.004398941598473072)\n",
      "Heinrich Hertz\n",
      "https://en.wikipedia.org/wiki/Heinrich_Hertz\n"
     ]
    }
   ],
   "source": [
    "# two word keyphrase extraction\n",
    "kw_extractor = KeywordExtractor(lan=\"en\", n=2, top=5)\n",
    "print(\n",
    "    \"Two word keyphrase:\",\n",
    "    (kwlist:=kw_extractor.extract_keywords(electromagnetism_txt)),\n",
    ")\n",
    "\n",
    "for kw in kwlist:\n",
    "    print(kw)\n",
    "    kw=kw[0]\n",
    "    print(kw)\n",
    "    try:\n",
    "        wiki=wikipedia.page(kw)\n",
    "        print(wiki.url)\n",
    "#         print(wiki.content)\n",
    "    except Exception:\n",
    "        pass"
   ]
  },
  {
   "cell_type": "code",
   "execution_count": 43,
   "id": "76998704",
   "metadata": {},
   "outputs": [
    {
     "data": {
      "text/plain": [
       "'Heinrich Hertz'"
      ]
     },
     "execution_count": 43,
     "metadata": {},
     "output_type": "execute_result"
    }
   ],
   "source": [
    "search_res"
   ]
  },
  {
   "cell_type": "code",
   "execution_count": null,
   "id": "ac4516c0",
   "metadata": {},
   "outputs": [],
   "source": []
  }
 ],
 "metadata": {
  "kernelspec": {
   "display_name": "Python 3 (ipykernel)",
   "language": "python",
   "name": "python3"
  },
  "language_info": {
   "codemirror_mode": {
    "name": "ipython",
    "version": 3
   },
   "file_extension": ".py",
   "mimetype": "text/x-python",
   "name": "python",
   "nbconvert_exporter": "python",
   "pygments_lexer": "ipython3",
   "version": "3.10.2"
  }
 },
 "nbformat": 4,
 "nbformat_minor": 5
}
